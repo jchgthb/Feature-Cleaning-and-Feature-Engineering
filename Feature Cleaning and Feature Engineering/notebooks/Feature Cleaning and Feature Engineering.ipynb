{
 "cells": [
  {
   "cell_type": "markdown",
   "metadata": {},
   "source": [
    "In this project we will be\n",
    "\n",
    "- feature cleaning and engineering\n",
    "\n",
    "- dimensionality reduction with feature selection and extraction\n"
   ]
  },
  {
   "cell_type": "markdown",
   "metadata": {},
   "source": [
    "# Part 0: Environment Setup"
   ]
  },
  {
   "cell_type": "code",
   "execution_count": 2,
   "metadata": {},
   "outputs": [],
   "source": [
    "# Set up our environment with comman libraries and plotting.\n",
    "#    Note: generally we would do all of our imports here but some imports\n",
    "#    have been left till later where they are used.\n",
    "\n",
    "# Import numpy, pandas, matplotlib.pyplot and seaborn\n",
    "import numpy as np\n",
    "import pandas as pd\n",
    "import matplotlib.pyplot as plt\n",
    "import seaborn as sns\n",
    "sns.set(style=\"darkgrid\")\n",
    "%matplotlib inline"
   ]
  },
  {
   "cell_type": "markdown",
   "metadata": {},
   "source": [
    "# Part 1: Data Cleaning and Feature Selection"
   ]
  },
  {
   "cell_type": "markdown",
   "metadata": {},
   "source": [
    "In this section will be loading, cleaning and transforming a small set of data related to loan applications."
   ]
  },
  {
   "cell_type": "markdown",
   "metadata": {},
   "source": [
    "## Data Preparation"
   ]
  },
  {
   "cell_type": "code",
   "execution_count": 3,
   "metadata": {},
   "outputs": [
    {
     "name": "stdout",
     "output_type": "stream",
     "text": [
      "<class 'pandas.core.frame.DataFrame'>\n",
      "RangeIndex: 664 entries, 0 to 663\n",
      "Data columns (total 4 columns):\n",
      " #   Column              Non-Null Count  Dtype  \n",
      "---  ------              --------------  -----  \n",
      " 0   CustomerID          664 non-null    int64  \n",
      " 1   WasTheLoanApproved  664 non-null    object \n",
      " 2   LoanReason          641 non-null    object \n",
      " 3   RequestedAmount     652 non-null    float64\n",
      "dtypes: float64(1), int64(1), object(2)\n",
      "memory usage: 20.9+ KB\n",
      "None\n"
     ]
    }
   ],
   "source": [
    "# Load Loan Application Data\n",
    "\n",
    "# Read in the first dataframe containing loan application information.\n",
    "df_loan = pd.read_csv('../data/hw3_loan.csv')\n",
    "\n",
    "# Assert that the data is the correct shape\n",
    "assert df_loan.shape == (664,4)\n",
    "\n",
    "# Print the output of .info() called on df_loan \n",
    "print(df_loan.info())"
   ]
  },
  {
   "cell_type": "code",
   "execution_count": 4,
   "metadata": {},
   "outputs": [
    {
     "name": "stdout",
     "output_type": "stream",
     "text": [
      "     CustomerID WasTheLoanApproved LoanReason  RequestedAmount\n",
      "650         736                  N     school           1001.0\n",
      "651         736                  Y      other           2169.0\n"
     ]
    }
   ],
   "source": [
    "# Deal with Duplicates\n",
    "\n",
    "# Display rows with duplicate CustomerIDs\n",
    "print(df_loan[df_loan.duplicated(subset='CustomerID', keep=False)])\n",
    "\n",
    "# Drop one of the rows with duplicate CustomerID,\n",
    "df_loan_nodups = df_loan.drop_duplicates(subset='CustomerID')\n",
    "\n",
    "# We should only drop one row\n",
    "assert df_loan_nodups.shape == (663,4)"
   ]
  },
  {
   "cell_type": "code",
   "execution_count": 5,
   "metadata": {},
   "outputs": [
    {
     "data": {
      "text/html": [
       "<div>\n",
       "<style scoped>\n",
       "    .dataframe tbody tr th:only-of-type {\n",
       "        vertical-align: middle;\n",
       "    }\n",
       "\n",
       "    .dataframe tbody tr th {\n",
       "        vertical-align: top;\n",
       "    }\n",
       "\n",
       "    .dataframe thead th {\n",
       "        text-align: right;\n",
       "    }\n",
       "</style>\n",
       "<table border=\"1\" class=\"dataframe\">\n",
       "  <thead>\n",
       "    <tr style=\"text-align: right;\">\n",
       "      <th></th>\n",
       "      <th>WasTheLoanApproved</th>\n",
       "      <th>LoanReason</th>\n",
       "      <th>RequestedAmount</th>\n",
       "    </tr>\n",
       "    <tr>\n",
       "      <th>CustomerID</th>\n",
       "      <th></th>\n",
       "      <th></th>\n",
       "      <th></th>\n",
       "    </tr>\n",
       "  </thead>\n",
       "  <tbody>\n",
       "    <tr>\n",
       "      <th>2</th>\n",
       "      <td>Y</td>\n",
       "      <td>goods</td>\n",
       "      <td>3074.0</td>\n",
       "    </tr>\n",
       "    <tr>\n",
       "      <th>3</th>\n",
       "      <td>Y</td>\n",
       "      <td>auto</td>\n",
       "      <td>939.0</td>\n",
       "    </tr>\n",
       "    <tr>\n",
       "      <th>4</th>\n",
       "      <td>Y</td>\n",
       "      <td>auto</td>\n",
       "      <td>2507.0</td>\n",
       "    </tr>\n",
       "  </tbody>\n",
       "</table>\n",
       "</div>"
      ],
      "text/plain": [
       "           WasTheLoanApproved LoanReason  RequestedAmount\n",
       "CustomerID                                               \n",
       "2                           Y      goods           3074.0\n",
       "3                           Y       auto            939.0\n",
       "4                           Y       auto           2507.0"
      ]
     },
     "execution_count": 5,
     "metadata": {},
     "output_type": "execute_result"
    }
   ],
   "source": [
    "# Set the Index of df_loan_nodups\n",
    "\n",
    "# Set the index of df_loan_nodups to the CustomerID column to make joining easier\n",
    "df_loan_nodups = df_loan_nodups.set_index('CustomerID', drop=True)\n",
    "\n",
    "# Display the first 3 rows of df_loan_nodups to visually confirm that the index has been set\n",
    "df_loan_nodups.head(3)"
   ]
  },
  {
   "cell_type": "code",
   "execution_count": 6,
   "metadata": {},
   "outputs": [
    {
     "name": "stdout",
     "output_type": "stream",
     "text": [
      "<class 'pandas.core.frame.DataFrame'>\n",
      "Int64Index: 663 entries, 2 to 750\n",
      "Data columns (total 1 columns):\n",
      " #   Column  Non-Null Count  Dtype  \n",
      "---  ------  --------------  -----  \n",
      " 0   Age     663 non-null    float64\n",
      "dtypes: float64(1)\n",
      "memory usage: 10.4 KB\n",
      "None\n"
     ]
    }
   ],
   "source": [
    "#Load Borrower Data\n",
    "\n",
    "# Read in a second table containing borrower information.\n",
    "df_borrower = pd.read_csv('../data/hw3_borrower.csv', index_col='CustomerID')\n",
    "\n",
    "# Assert that the data is the correct shape\n",
    "assert df_borrower.shape == (663,1)\n",
    "\n",
    "# Print the output of .info() called on df_borrower\n",
    "#  Note that the index has been set and there are no missing values\n",
    "print(df_borrower.info())"
   ]
  },
  {
   "cell_type": "code",
   "execution_count": 7,
   "metadata": {},
   "outputs": [
    {
     "name": "stdout",
     "output_type": "stream",
     "text": [
      "<class 'pandas.core.frame.DataFrame'>\n",
      "Int64Index: 663 entries, 2 to 750\n",
      "Data columns (total 4 columns):\n",
      " #   Column              Non-Null Count  Dtype  \n",
      "---  ------              --------------  -----  \n",
      " 0   WasTheLoanApproved  663 non-null    object \n",
      " 1   LoanReason          640 non-null    object \n",
      " 2   RequestedAmount     651 non-null    float64\n",
      " 3   Age                 663 non-null    float64\n",
      "dtypes: float64(2), object(2)\n",
      "memory usage: 42.1+ KB\n",
      "None\n"
     ]
    }
   ],
   "source": [
    "# Join Datasets\n",
    "\n",
    "# Join the df_loan_nodups and df_borrower datasets\n",
    "df = df_loan_nodups.join(df_borrower, how='left')\n",
    "\n",
    "# Assert that the data is the correct shape\n",
    "assert df.shape == (663,4)\n",
    "\n",
    "# Print the output of .info() called on df\n",
    "print(df.info())"
   ]
  },
  {
   "cell_type": "markdown",
   "metadata": {},
   "source": [
    "## Data Exploration and Transformation"
   ]
  },
  {
   "cell_type": "code",
   "execution_count": 8,
   "metadata": {},
   "outputs": [
    {
     "name": "stdout",
     "output_type": "stream",
     "text": [
      "<class 'pandas.core.frame.DataFrame'>\n",
      "Int64Index: 663 entries, 2 to 750\n",
      "Empty DataFrameNone\n"
     ]
    }
   ],
   "source": [
    "\n",
    "# Instead of adding transformed features into our original dataframe (df) it is convenient to create a new dataframe containing only features.\n",
    "# This will eventually be the X features for our models.\n",
    "df_features = pd.DataFrame(index=df.index)\n",
    "\n",
    "# Print the output of .info() called on df_features\n",
    "# The index should match the index of df above, but empty otherwise\n",
    "print(df_features.info())"
   ]
  },
  {
   "cell_type": "markdown",
   "metadata": {},
   "source": [
    "### RequestedAmount"
   ]
  },
  {
   "cell_type": "code",
   "execution_count": 9,
   "metadata": {},
   "outputs": [
    {
     "data": {
      "text/plain": [
       "<Axes: xlabel='RequestedAmount', ylabel='Count'>"
      ]
     },
     "execution_count": 9,
     "metadata": {},
     "output_type": "execute_result"
    },
    {
     "data": {
      "image/png": "[encoded data removed]",
      "text/plain": [
       "<Figure size 640x480 with 1 Axes>"
      ]
     },
     "metadata": {},
     "output_type": "display_data"
    }
   ],
   "source": [
    "# Plot RequestedAmount\n",
    "\n",
    "# RequestedAmount is a numeric feature with missing values\n",
    "\n",
    "sns.histplot(df['RequestedAmount'])"
   ]
  },
  {
   "cell_type": "code",
   "execution_count": 10,
   "metadata": {},
   "outputs": [
    {
     "data": {
      "text/plain": [
       "0    651\n",
       "1     12\n",
       "Name: RequestedAmount_missing, dtype: int64"
      ]
     },
     "execution_count": 10,
     "metadata": {},
     "output_type": "execute_result"
    }
   ],
   "source": [
    "# Create Dummy Column for Missing RequestedAmount \n",
    "\n",
    "# Before filling the missing values we should create a dummy variable to capture which rows had missing values\n",
    "\n",
    "# Find the rows where RequestedAmount is missing and convert the resulting boolean values to integers\n",
    "df_features['RequestedAmount_missing'] = df['RequestedAmount'].isnull().astype(int)\n",
    "\n",
    "# Print the number of 0s and 1s in the RequestedAmount_missing column using .value_counts().\n",
    "df_features['RequestedAmount_missing'].value_counts()"
   ]
  },
  {
   "cell_type": "code",
   "execution_count": 11,
   "metadata": {},
   "outputs": [
    {
     "name": "stdout",
     "output_type": "stream",
     "text": [
      "RequestedAmount median: 2329.0\n",
      "RequestedAmount_filled median: 2329.0\n"
     ]
    }
   ],
   "source": [
    "# Fill Missing Values in RequestedAmount\n",
    "\n",
    "# As RequestedAmount is right skewed, we'll fill missing values using median instead of mean.\n",
    "\n",
    "# Print the median of RequestedAmount before filling\n",
    "median_requested_amount = df['RequestedAmount'].median()\n",
    "print(f'RequestedAmount median: {median_requested_amount}')\n",
    "\n",
    "# Use fillna() to fill the missing values in RequestedAmount with the median of RequestedAmount\n",
    "# We'll make two more transformations to this column before storing it as a feature so store back into df as 'RequestedAmount_filled'\n",
    "df['RequestedAmount_filled'] = df['RequestedAmount'].fillna(df['RequestedAmount'].median())\n",
    "\n",
    "# Print the median of RequestedAmount_filled. The median should not have changed after filling\n",
    "print(f'RequestedAmount_filled median: {df[\"RequestedAmount_filled\"].median()}')\n",
    "\n",
    "# Assert that there are no longer any missing values in the RequestedAmount_filled column of df\n",
    "assert df['RequestedAmount_filled'].isnull().sum() == 0"
   ]
  },
  {
   "cell_type": "code",
   "execution_count": 12,
   "metadata": {},
   "outputs": [
    {
     "data": {
      "text/plain": [
       "<Axes: xlabel='RequestedAmount_log', ylabel='Count'>"
      ]
     },
     "execution_count": 12,
     "metadata": {},
     "output_type": "execute_result"
    },
    {
     "data": {
      "image/png": "[encoded data removed]",
      "text/plain": [
       "<Figure size 640x480 with 1 Axes>"
      ]
     },
     "metadata": {},
     "output_type": "display_data"
    }
   ],
   "source": [
    "# Log Transform RequestedAmount\n",
    "\n",
    "# Using .apply(), apply np.log (without parentheses) to the RequestedAmount_filled column.\n",
    "# Store the result back into df as RequestedAmount_log\n",
    "df['RequestedAmount_log'] = df['RequestedAmount_filled'].apply(np.log)\n",
    "\n",
    "# Use seaborn histplot() (using default settings) to plot RequestedAmount_log \n",
    "# Note that the shape is now closer to a normal distribution\n",
    "sns.histplot(df['RequestedAmount_log'])"
   ]
  },
  {
   "cell_type": "code",
   "execution_count": 13,
   "metadata": {},
   "outputs": [
    {
     "name": "stdout",
     "output_type": "stream",
     "text": [
      "mean   -0.0\n",
      "std     1.0\n",
      "Name: RequestedAmount_logscaled, dtype: float64\n"
     ]
    }
   ],
   "source": [
    "# Center and Scale RequestedAmount_log Using StandardScaler\n",
    "\n",
    "# Import StandardScaler from sklearn\n",
    "from sklearn.preprocessing import StandardScaler\n",
    "\n",
    "df_features['RequestedAmount_logscaled'] = StandardScaler().fit_transform(df[['RequestedAmount_log']])\n",
    "print(df_features['RequestedAmount_logscaled'].agg(['mean', 'std']).round(2))"
   ]
  },
  {
   "cell_type": "markdown",
   "metadata": {},
   "source": [
    "### LoanReason"
   ]
  },
  {
   "cell_type": "code",
   "execution_count": 14,
   "metadata": {},
   "outputs": [
    {
     "name": "stdout",
     "output_type": "stream",
     "text": [
      "goods     299\n",
      "auto      210\n",
      "other      87\n",
      "school     44\n",
      "NaN        23\n",
      "Name: LoanReason, dtype: int64\n"
     ]
    }
   ],
   "source": [
    "# LoanReason Values\n",
    "print(df['LoanReason'].value_counts(dropna=False))"
   ]
  },
  {
   "cell_type": "code",
   "execution_count": 15,
   "metadata": {},
   "outputs": [
    {
     "name": "stdout",
     "output_type": "stream",
     "text": [
      "goods      299\n",
      "auto       210\n",
      "other       87\n",
      "school      44\n",
      "MISSING     23\n",
      "Name: LoanReason, dtype: int64\n"
     ]
    }
   ],
   "source": [
    "#  Fill Missing Values in LoanReason and Store in df_features\n",
    "\n",
    "# Since this is a categorical variable, instead of creating a \"missing\" dummy column, simply fill the missing values with the string 'MISSING'\n",
    "\n",
    "df_features['LoanReason'] = df['LoanReason'].fillna('MISSING')\n",
    "print(df_features['LoanReason'].value_counts(dropna=False))\n"
   ]
  },
  {
   "cell_type": "markdown",
   "metadata": {},
   "source": [
    "### Age"
   ]
  },
  {
   "cell_type": "code",
   "execution_count": 16,
   "metadata": {},
   "outputs": [
    {
     "name": "stdout",
     "output_type": "stream",
     "text": [
      "min    19.0\n",
      "max    75.0\n",
      "Name: Age, dtype: float64\n"
     ]
    }
   ],
   "source": [
    "# Scale and Store Ages\n",
    "\n",
    "assert df['Age'].isnull().sum() == 0\n",
    "print(df['Age'].agg(['min', 'max']))"
   ]
  },
  {
   "cell_type": "code",
   "execution_count": 17,
   "metadata": {},
   "outputs": [
    {
     "name": "stdout",
     "output_type": "stream",
     "text": [
      "[19.0, 29.0, 39.0, 75.0]\n"
     ]
    }
   ],
   "source": [
    "# Create Age Bin Edges for Age\n",
    "\n",
    "# We'll transform Age into a categorical variable using binning.\n",
    "age_bins = df['Age'].quantile([0, .33, .66, 1]).tolist()\n",
    "\n",
    "# Print the bin edges\n",
    "# Rows labeled 0.00 and 1.00 should have values that match the Age min and max seen printed above\n",
    "print(age_bins)"
   ]
  },
  {
   "cell_type": "code",
   "execution_count": 18,
   "metadata": {},
   "outputs": [
    {
     "name": "stdout",
     "output_type": "stream",
     "text": [
      "CustomerID\n",
      "2      (29.0, 39.0]\n",
      "3    (18.999, 29.0]\n",
      "4      (39.0, 75.0]\n",
      "Name: Age, dtype: category\n",
      "Categories (3, interval[float64, right]): [(18.999, 29.0] < (29.0, 39.0] < (39.0, 75.0]]\n",
      "\n",
      "CustomerID\n",
      "2    33.0\n",
      "3    28.0\n",
      "4    51.0\n",
      "Name: Age, dtype: float64\n"
     ]
    }
   ],
   "source": [
    "#  Bin Age\n",
    "\n",
    "# Use pd.cut() to bin Age\n",
    "df_features['Age'] = pd.cut(df['Age'], bins=age_bins, right=True, include_lowest=True)\n",
    "\n",
    "# Print the first 3 rows of df_features.Age\n",
    "print(df_features['Age'].head(3))\n",
    "\n",
    "print() \n",
    "\n",
    "# Confirm the correct bins have been applied\n",
    "print(df['Age'].head(3))"
   ]
  },
  {
   "cell_type": "markdown",
   "metadata": {},
   "source": [
    "### One-Hot Encode Categorical Variables"
   ]
  },
  {
   "cell_type": "code",
   "execution_count": 19,
   "metadata": {},
   "outputs": [
    {
     "name": "stdout",
     "output_type": "stream",
     "text": [
      "CustomerID                            2               3             4\n",
      "RequestedAmount_missing               0               0             0\n",
      "RequestedAmount_logscaled          0.31           -1.21          0.04\n",
      "LoanReason                        goods            auto          auto\n",
      "Age                        (29.0, 39.0]  (18.999, 29.0]  (39.0, 75.0]\n",
      "CustomerID                    2     3     4\n",
      "RequestedAmount_missing    0.00  0.00  0.00\n",
      "RequestedAmount_logscaled  0.31 -1.21  0.04\n",
      "LoanReason_MISSING         0.00  0.00  0.00\n",
      "LoanReason_auto            0.00  1.00  1.00\n",
      "LoanReason_goods           1.00  0.00  0.00\n",
      "LoanReason_other           0.00  0.00  0.00\n",
      "LoanReason_school          0.00  0.00  0.00\n",
      "Age_(18.999, 29.0]         0.00  1.00  0.00\n",
      "Age_(29.0, 39.0]           1.00  0.00  0.00\n",
      "Age_(39.0, 75.0]           0.00  0.00  1.00\n"
     ]
    }
   ],
   "source": [
    "# Transform LoanReason and Age Bins using One-Hot Encoding\n",
    "\n",
    "\n",
    "print(df_features.head(3).round(2).T)\n",
    "\n",
    "# Use pd.get_dummies() to encode the categorical variables\n",
    "df_features_ohe = pd.get_dummies(df_features)\n",
    "\n",
    "print(df_features_ohe.head(3).round(2).T)\n",
    "\n",
    "assert df_features_ohe.shape == (663,10)"
   ]
  },
  {
   "cell_type": "markdown",
   "metadata": {},
   "source": [
    "# Part 2: Feature Selection"
   ]
  },
  {
   "cell_type": "code",
   "execution_count": 20,
   "metadata": {},
   "outputs": [
    {
     "name": "stdout",
     "output_type": "stream",
     "text": [
      "proportion of positives in y: 0.59\n"
     ]
    }
   ],
   "source": [
    "#  Transform Target \n",
    "\n",
    "# The target we're interested in predicting is df.WasTheLoanApproved.\n",
    "# This is a categorical variable taking the values Y for yes and N for no\n",
    "\n",
    "y = df['WasTheLoanApproved'].map({'Y': 1, 'N': 0})\n",
    "\n",
    "# Print the proportion of positives (1's) in y with a precision of 2. We can use this as our baseline accuracy (what would be found by a DummyClassifier)\n",
    "#  We'd like to find a model that does better than this\n",
    "print(f'proportion of positives in y: {y.mean():.2f}')"
   ]
  },
  {
   "cell_type": "code",
   "execution_count": 21,
   "metadata": {},
   "outputs": [
    {
     "name": "stdout",
     "output_type": "stream",
     "text": [
      "proportion of positives in y_test: 0.60\n"
     ]
    }
   ],
   "source": [
    "#  Split the Data\n",
    "from sklearn.model_selection import train_test_split\n",
    "X_train, X_test, y_train, y_test = train_test_split(df_features_ohe, y, test_size=0.1, stratify=y, random_state=512)\n",
    "\n",
    "# Assert that X_train has 596 rows, 10 columns\n",
    "assert X_train.shape == (596,10)\n",
    "\n",
    "print(f'proportion of positives in y_test: {y_test.mean():.2f}')"
   ]
  },
  {
   "cell_type": "code",
   "execution_count": 22,
   "metadata": {},
   "outputs": [
    {
     "name": "stdout",
     "output_type": "stream",
     "text": [
      "RequestedAmount_logscaled    0.49\n",
      "Age_(18.999, 29.0]           0.38\n",
      "Age_(29.0, 39.0]             0.03\n",
      "Age_(39.0, 75.0]             0.02\n",
      "LoanReason_auto              0.02\n",
      "LoanReason_school            0.02\n",
      "LoanReason_other             0.02\n",
      "LoanReason_goods             0.02\n",
      "RequestedAmount_missing      0.01\n",
      "LoanReason_MISSING           0.00\n",
      "dtype: float64\n"
     ]
    }
   ],
   "source": [
    "# Rank Feature Importance Using GradientBoostingClassifier\n",
    "\n",
    "\n",
    "from sklearn.ensemble import GradientBoostingClassifier\n",
    "gbc = GradientBoostingClassifier(n_estimators=10, max_depth=5)\n",
    "\n",
    "\n",
    "# Fit gbc on the training set\n",
    "gbc.fit(X_train, y_train)\n",
    "\n",
    "# The feature_importances_ stored in gbc are in the order of the columns of X_train\n",
    "gbc_feature_importances = pd.Series(gbc.feature_importances_, index=X_train.columns)\n",
    "\n",
    "# Display feature_importances sorted by value descending rounded to a precision of 2\n",
    "print(gbc_feature_importances.sort_values(ascending=False).round(2))"
   ]
  },
  {
   "cell_type": "code",
   "execution_count": 23,
   "metadata": {},
   "outputs": [
    {
     "name": "stdout",
     "output_type": "stream",
     "text": [
      "Index(['RequestedAmount_logscaled', 'Age_(18.999, 29.0]'], dtype='object')\n"
     ]
    }
   ],
   "source": [
    "# Feature Selection with SelectFromModel\n",
    "\n",
    "from sklearn.feature_selection import SelectFromModel\n",
    "sfm = SelectFromModel(gbc, threshold='mean')\n",
    "sfm.fit(X_train, y_train)\n",
    "\n",
    "# Show the selected features using X_train.columns and sfm.get_support()\n",
    "selected_features = X_train.columns[sfm.get_support()]\n",
    "print(selected_features)"
   ]
  },
  {
   "cell_type": "code",
   "execution_count": 24,
   "metadata": {},
   "outputs": [
    {
     "name": "stdout",
     "output_type": "stream",
     "text": [
      "[[ 0.13  1.  ]\n",
      " [-1.28  0.  ]\n",
      " [ 0.08  0.  ]]\n"
     ]
    }
   ],
   "source": [
    "# Transform Data Using Selected Features\n",
    "\n",
    "# Create a new dataset using only the features selected in the previous step.\n",
    "X_train_fs = sfm.transform(X_train)\n",
    "X_test_fs = sfm.transform(X_test)\n",
    "\n",
    "# Assert that X_train_fs has 596 rows and 2 columns.\n",
    "assert X_train_fs.shape == (596,2)\n",
    "\n",
    "# Print the first 3 rows of X_train_fs, rounded to a precision of 2\n",
    "print(X_train_fs[:3].round(2))\n",
    "\n"
   ]
  },
  {
   "cell_type": "code",
   "execution_count": 25,
   "metadata": {},
   "outputs": [
    {
     "name": "stdout",
     "output_type": "stream",
     "text": [
      "training accuracy: 0.77\n",
      "test accuracy    : 0.69\n"
     ]
    }
   ],
   "source": [
    "# Train and Evaluate Model On Selected Features\n",
    "\n",
    "gbc_fs = GradientBoostingClassifier(n_estimators=10, max_depth=5)\n",
    "gbc_fs.fit(X_train_fs, y_train)\n",
    "\n",
    "# Train the gbc_fs model on X_train_fs and y_train\n",
    "train_accuracy = gbc_fs.score(X_train_fs, y_train)\n",
    "test_accuracy = gbc_fs.score(X_test_fs, y_test)\n",
    "\n",
    "# Print the accuracy achieved by gbc_fs on both training and test set\n",
    "print(f'training accuracy: {train_accuracy:.2f}')\n",
    "print(f'test accuracy    : {test_accuracy:.2f}')\n"
   ]
  },
  {
   "cell_type": "markdown",
   "metadata": {},
   "source": [
    "## Part 3: Feature Extraction"
   ]
  },
  {
   "cell_type": "code",
   "execution_count": 26,
   "metadata": {},
   "outputs": [
    {
     "name": "stdout",
     "output_type": "stream",
     "text": [
      "[0.44 0.16]\n"
     ]
    }
   ],
   "source": [
    "# Reduce Dataset to 2D Using PCA\n",
    "\n",
    "# Import PCA from sklearn\n",
    "from sklearn.decomposition import PCA\n",
    "pca = PCA(n_components=2, random_state=512)\n",
    "\n",
    "# Fit and transform the full X_train to 2D using pca\n",
    "X_train_pca = pca.fit_transform(X_train)\n",
    "\n",
    "# Transform (but don't fit!) the X_test to 2D using the trained pca\n",
    "# Store in X_test_pca\n",
    "X_test_pca = pca.transform(X_test)\n",
    "\n",
    "# Print the ratio of variance explained by each component in pca, rounded to a precision of 2\n",
    "print(pca.explained_variance_ratio_.round(2))"
   ]
  },
  {
   "cell_type": "code",
   "execution_count": 27,
   "metadata": {},
   "outputs": [
    {
     "name": "stdout",
     "output_type": "stream",
     "text": [
      "training accuracy: 0.72\n",
      "test accuracy    : 0.66\n"
     ]
    }
   ],
   "source": [
    "# Train and evaluate a classifier using the PCA representation\n",
    "\n",
    "gbc_pca = GradientBoostingClassifier(n_estimators=10, max_depth=5)\n",
    "gbc_pca.fit(X_train_pca, y_train)\n",
    "\n",
    "train_accuracy_pca = gbc_pca.score(X_train_pca, y_train)\n",
    "test_accuracy_pca = gbc_pca.score(X_test_pca, y_test)\n",
    "\n",
    "# Print the accuracy achieved by gbc_pca on both training an test set\n",
    "print(f'training accuracy: {train_accuracy_pca:.2f}')\n",
    "print(f'test accuracy    : {test_accuracy_pca:.2f}')\n"
   ]
  }
 ],
 "metadata": {
  "kernelspec": {
   "display_name": "eods-f23",
   "language": "python",
   "name": "eods-f23"
  },
  "language_info": {
   "codemirror_mode": {
    "name": "ipython",
    "version": 3
   },
   "file_extension": ".py",
   "mimetype": "text/x-python",
   "name": "python",
   "nbconvert_exporter": "python",
   "pygments_lexer": "ipython3",
   "version": "3.10.12"
  },
  "toc": {
   "base_numbering": 1,
   "nav_menu": {},
   "number_sections": false,
   "sideBar": true,
   "skip_h1_title": false,
   "title_cell": "Table of Contents",
   "title_sidebar": "Contents",
   "toc_cell": false,
   "toc_position": {},
   "toc_section_display": true,
   "toc_window_display": false
  }
 },
 "nbformat": 4,
 "nbformat_minor": 2
}
